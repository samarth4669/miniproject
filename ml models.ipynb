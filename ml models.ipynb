{
  "nbformat": 4,
  "nbformat_minor": 0,
  "metadata": {
    "colab": {
      "provenance": []
    },
    "kernelspec": {
      "name": "python3",
      "display_name": "Python 3"
    },
    "language_info": {
      "name": "python"
    }
  },
  "cells": [
    {
      "cell_type": "code",
      "source": [
        "import numpy as np\n",
        "\n",
        "# Load the .npz file\n",
        "npz_file = np.load(r'/content/output_data (8) (2).npz')\n",
        "\n",
        "# Print the keys of the loaded file\n",
        "keys=list(npz_file.keys())\n",
        "y=npz_file[keys[0]]\n",
        "x=npz_file[keys[1]]\n",
        "npz_file.close()"
      ],
      "metadata": {
        "id": "nWH_K-R2bO5d"
      },
      "execution_count": 5,
      "outputs": []
    },
    {
      "cell_type": "code",
      "execution_count": 7,
      "metadata": {
        "id": "U2-hudJ5adxh"
      },
      "outputs": [],
      "source": [
        "from sklearn.model_selection import train_test_split\n",
        "x_train,x_test,y_train,y_test=train_test_split(x,y,test_size=0.16,random_state=0)\n"
      ]
    },
    {
      "cell_type": "code",
      "source": [
        "# finding best k value\n",
        "\n",
        "from sklearn.model_selection import GridSearchCV\n",
        "from sklearn.neighbors import KNeighborsClassifier\n",
        "\n",
        "k_values = list(range(1, 21))\n",
        "knn=KNeighborsClassifier()\n",
        "param_grid = {'n_neighbors': k_values}\n",
        "grid_search = GridSearchCV(knn, param_grid, cv=5, scoring='accuracy')\n",
        "grid_search.fit(x_train, y_train)\n",
        "best_k = grid_search.best_params_['n_neighbors']\n",
        "print(\"Best value of k:\", best_k)\n",
        "# Evaluate the performance of the best model on the testing set\n",
        "best_model = grid_search.best_estimator_\n",
        "best_model_accuracy = best_model.score(x_test, y_test)\n",
        "print(\"Accuracy of the best model on the testing set:\", best_model_accuracy)"
      ],
      "metadata": {
        "colab": {
          "base_uri": "https://localhost:8080/"
        },
        "id": "BrtEqJnAgydo",
        "outputId": "88facbcb-9757-48fb-c1ce-88d9bd080904"
      },
      "execution_count": 37,
      "outputs": [
        {
          "output_type": "stream",
          "name": "stderr",
          "text": [
            "/usr/local/lib/python3.10/dist-packages/sklearn/model_selection/_split.py:700: UserWarning: The least populated class in y has only 4 members, which is less than n_splits=5.\n",
            "  warnings.warn(\n"
          ]
        },
        {
          "output_type": "stream",
          "name": "stdout",
          "text": [
            "Best value of k: 5\n",
            "Accuracy of the best model on the testing set: 0.47368421052631576\n"
          ]
        }
      ]
    },
    {
      "cell_type": "markdown",
      "source": [
        "cosine similarity"
      ],
      "metadata": {
        "id": "S2pm4jVjk-cN"
      }
    },
    {
      "cell_type": "code",
      "source": [
        "from sklearn.metrics.pairwise import cosine_similarity\n",
        "import numpy as np\n",
        "def classify(X_train, y_train, X_test):\n",
        "\n",
        "    predicted_labels = []\n",
        "\n",
        "    # Iterate over each test instance\n",
        "    for test_instance in X_test:\n",
        "        # Calculate cosine similarity between test instance and all training instances\n",
        "        similarities = cosine_similarity(X_train, [test_instance])\n",
        "\n",
        "        # Find the index of the training instance with the highest cosine similarity\n",
        "        most_similar_index = np.argmax(similarities)\n",
        "\n",
        "        # Assign the label of the most similar training instance as the predicted label for the test instance\n",
        "        predicted_label = y_train[most_similar_index]\n",
        "        predicted_labels.append(predicted_label)\n",
        "\n",
        "    return np.array(predicted_labels)"
      ],
      "metadata": {
        "id": "Jbs_I6D1jxnK"
      },
      "execution_count": 3,
      "outputs": []
    },
    {
      "cell_type": "code",
      "source": [
        "from sklearn.metrics import accuracy_score\n",
        "y_pred=classify(x_train, y_train, x_test)\n",
        "accuracy = accuracy_score(y_test, y_pred)\n",
        "\n",
        "# Print accuracy\n",
        "print(\"Accuracy:\", accuracy)"
      ],
      "metadata": {
        "colab": {
          "base_uri": "https://localhost:8080/"
        },
        "id": "FZ_rE9m2XrEX",
        "outputId": "b8a65443-4889-4815-ace8-68001cf0e12a"
      },
      "execution_count": 8,
      "outputs": [
        {
          "output_type": "stream",
          "name": "stdout",
          "text": [
            "Accuracy: 0.42105263157894735\n"
          ]
        }
      ]
    },
    {
      "cell_type": "markdown",
      "source": [
        "svm"
      ],
      "metadata": {
        "id": "0aQBvNL7Zvtl"
      }
    },
    {
      "cell_type": "code",
      "source": [
        "from sklearn.svm import SVC\n",
        "from sklearn.metrics import accuracy_score\n",
        "\n",
        "# Assuming X_train, y_train, X_test, y_test contain your training and test data\n",
        "# Replace X_train, y_train, X_test with your actual training and test data\n",
        "# Replace y_test with your actual test labels\n",
        "\n",
        "# Create an SVM classifier\n",
        "svm_classifier = SVC(kernel='rbf')  # You can choose different kernels like 'rbf', 'poly', etc.\n",
        "\n",
        "# Train the SVM classifier\n",
        "svm_classifier.fit(x_train, y_train)\n",
        "\n",
        "# Predict the labels for the test instances\n",
        "y_pred = svm_classifier.predict(x_test)\n",
        "\n",
        "# Calculate accuracy\n",
        "accuracy = accuracy_score(y_test, y_pred)\n",
        "\n",
        "# Print accuracy\n",
        "print(\"Accuracy:\", accuracy)\n"
      ],
      "metadata": {
        "colab": {
          "base_uri": "https://localhost:8080/"
        },
        "id": "aJPYxFGpZA1g",
        "outputId": "84fbe67c-5f00-423a-94f0-3fc7ea3a6618"
      },
      "execution_count": 9,
      "outputs": [
        {
          "output_type": "stream",
          "name": "stdout",
          "text": [
            "Accuracy: 0.42105263157894735\n"
          ]
        }
      ]
    }
  ]
}